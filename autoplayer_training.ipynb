{
 "cells": [
  {
   "cell_type": "code",
   "execution_count": 1,
   "metadata": {
    "collapsed": true
   },
   "outputs": [],
   "source": [
    "import cv2\n",
    "import numpy as np\n",
    "import keyboard  # using module keyboard\n",
    "#from time import sleep\n",
    "import matplotlib.pyplot as plt\n",
    "import win32gui, win32ui,win32con, win32api"
   ]
  },
  {
   "cell_type": "markdown",
   "metadata": {},
   "source": [
    "# data collection"
   ]
  },
  {
   "cell_type": "code",
   "execution_count": 2,
   "metadata": {
    "collapsed": true
   },
   "outputs": [],
   "source": [
    "def get_screenshot(region=None):\n",
    "    #hwnd = win32gui.FindWindow(None, window_name)\n",
    "    hwnd = win32gui.GetDesktopWindow()\n",
    "    if region:\n",
    "        left, top, x2, y2 = region\n",
    "        width = x2 - left + 1\n",
    "        height = y2 - top + 1\n",
    "    else:\n",
    "        width = win32api.GetSystemMetrics(win32con.SM_CXVIRTUALSCREEN)\n",
    "        height = win32api.GetSystemMetrics(win32con.SM_CYVIRTUALSCREEN)\n",
    "        left = win32api.GetSystemMetrics(win32con.SM_XVIRTUALSCREEN)\n",
    "        top = win32api.GetSystemMetrics(win32con.SM_YVIRTUALSCREEN)\n",
    "    \n",
    "    # get the window image data\n",
    "    wDC = win32gui.GetWindowDC(hwnd)\n",
    "    dcObj = win32ui.CreateDCFromHandle(wDC)\n",
    "    cDC = dcObj.CreateCompatibleDC()\n",
    "    dataBitMap = win32ui.CreateBitmap()\n",
    "    dataBitMap.CreateCompatibleBitmap(dcObj, width, height)\n",
    "    cDC.SelectObject(dataBitMap)\n",
    "    cDC.BitBlt((0, 0), (width, height), dcObj, (left, top), win32con.SRCCOPY)\n",
    "\n",
    "    # convert the raw data into a format opencv can read\n",
    "    signedIntsArray = dataBitMap.GetBitmapBits(True)\n",
    "    img = np.frombuffer(signedIntsArray, dtype='uint8')\n",
    "    img.shape = (height, width, 4)\n",
    "\n",
    "    # free resources\n",
    "    dcObj.DeleteDC()\n",
    "    cDC.DeleteDC()\n",
    "    win32gui.ReleaseDC(hwnd, wDC)\n",
    "    win32gui.DeleteObject(dataBitMap.GetHandle())\n",
    "\n",
    "    img = np.ascontiguousarray(img)\n",
    "\n",
    "    return img"
   ]
  },
  {
   "cell_type": "code",
   "execution_count": null,
   "metadata": {},
   "outputs": [],
   "source": [
    "# continue previous training or start one:\n",
    "image_data = []\n",
    "target = []"
   ]
  },
  {
   "cell_type": "code",
   "execution_count": 8,
   "metadata": {
    "collapsed": false,
    "scrolled": true
   },
   "outputs": [
    {
     "name": "stdout",
     "output_type": "stream",
     "text": [
      "You pressed right\n",
      "You pressed right\n",
      "You pressed right\n",
      "You pressed right\n",
      "You pressed right\n",
      "You pressed right\n",
      "You pressed right\n",
      "You pressed right\n",
      "You pressed left\n",
      "You pressed right\n",
      "You pressed right\n",
      "You pressed right\n",
      "You pressed right\n",
      "You pressed left\n",
      "You pressed right\n",
      "You pressed right\n",
      "You pressed right\n",
      "You pressed right\n",
      "You pressed right\n",
      "You pressed right\n",
      "You pressed right\n",
      "You pressed right\n",
      "You pressed right\n",
      "You pressed right\n",
      "You pressed right\n",
      "You pressed right\n",
      "You pressed left\n",
      "You pressed right\n",
      "You pressed right\n",
      "You pressed right\n",
      "You pressed right\n",
      "You pressed right\n",
      "You pressed right\n",
      "You pressed right\n",
      "You pressed left\n",
      "You pressed right\n",
      "You pressed right\n",
      "You pressed right\n",
      "You pressed right\n",
      "You pressed right\n",
      "You pressed right\n",
      "You pressed right\n",
      "You pressed left\n",
      "You pressed right\n",
      "You pressed right\n",
      "You pressed right\n",
      "You pressed right\n",
      "You pressed right\n",
      "You pressed right\n",
      "You pressed right\n",
      "You pressed right\n",
      "You pressed right\n",
      "You pressed right\n",
      "You pressed left\n",
      "You pressed right\n",
      "You pressed right\n",
      "You pressed right\n",
      "You pressed right\n",
      "You pressed right\n",
      "You pressed right\n",
      "You pressed right\n",
      "You pressed left\n",
      "You pressed right\n",
      "You pressed left\n",
      "You pressed right\n",
      "You pressed right\n",
      "You pressed right\n",
      "You pressed right\n",
      "You pressed right\n",
      "You pressed right\n",
      "You pressed left\n",
      "You pressed right\n",
      "You pressed left\n",
      "You pressed right\n",
      "You pressed right\n",
      "You pressed right\n",
      "You pressed right\n",
      "You pressed right\n",
      "You pressed right\n",
      "You pressed right\n",
      "You pressed right\n",
      "You pressed right\n",
      "You pressed left\n",
      "You pressed right\n",
      "You pressed right\n",
      "You pressed right\n",
      "You pressed right\n",
      "You pressed right\n",
      "You pressed right\n",
      "You pressed right\n",
      "You pressed right\n",
      "You pressed right\n",
      "You pressed left\n",
      "You pressed right\n",
      "You pressed right\n",
      "You pressed right\n",
      "You pressed right\n",
      "You pressed right\n",
      "You pressed right\n",
      "You pressed left\n",
      "You pressed left\n",
      "You pressed right\n",
      "You pressed right\n",
      "You pressed right\n",
      "You pressed right\n",
      "You pressed right\n",
      "You pressed right\n",
      "You pressed right\n",
      "You pressed right\n",
      "You pressed right\n",
      "You pressed right\n",
      "You pressed right\n",
      "You pressed right\n",
      "You pressed right\n",
      "You pressed right\n",
      "You pressed right\n",
      "You pressed right\n",
      "You pressed right\n",
      "You pressed left\n",
      "You pressed right\n",
      "You pressed right\n",
      "You pressed left\n",
      "You pressed right\n",
      "You pressed right\n",
      "You pressed right\n",
      "You pressed right\n",
      "You pressed left\n",
      "You pressed right\n",
      "You pressed right\n",
      "You pressed right\n",
      "You pressed right\n",
      "You pressed right\n",
      "You pressed right\n",
      "You pressed left\n",
      "You pressed right\n",
      "You pressed right\n",
      "You pressed right\n",
      "You pressed right\n",
      "You pressed right\n",
      "You pressed right\n",
      "You pressed right\n",
      "You pressed right\n",
      "You pressed right\n",
      "You pressed right\n",
      "You pressed left\n",
      "You pressed right\n",
      "You pressed right\n",
      "You pressed right\n",
      "You pressed right\n",
      "You pressed right\n",
      "You pressed right\n",
      "You pressed right\n",
      "You pressed right\n",
      "You pressed left\n",
      "You pressed right\n",
      "You pressed right\n",
      "You pressed left\n",
      "You pressed right\n",
      "You pressed left\n",
      "You pressed right\n",
      "You pressed right\n",
      "You pressed right\n",
      "You pressed left\n",
      "You pressed right\n",
      "You pressed right\n",
      "You pressed right\n",
      "You pressed right\n",
      "You pressed left\n",
      "You pressed right\n",
      "You pressed right\n",
      "You pressed right\n",
      "You pressed right\n",
      "You pressed right\n",
      "You pressed right\n",
      "You pressed right\n",
      "You pressed right\n",
      "You pressed right\n",
      "You pressed right\n",
      "You pressed left\n",
      "You pressed right\n",
      "You pressed right\n",
      "You pressed right\n",
      "You pressed right\n",
      "You pressed right\n",
      "You pressed right\n",
      "You pressed right\n",
      "You pressed left\n",
      "You pressed right\n",
      "You pressed right\n",
      "You pressed right\n",
      "You pressed right\n",
      "You pressed right\n",
      "You pressed right\n",
      "You pressed right\n",
      "You pressed right\n",
      "You pressed right\n",
      "You pressed right\n",
      "You pressed right\n",
      "You pressed right\n",
      "You pressed right\n",
      "You pressed right\n",
      "You pressed right\n",
      "You pressed right\n",
      "You pressed left\n",
      "You pressed left\n",
      "You pressed right\n",
      "You pressed right\n",
      "You pressed right\n",
      "You pressed left\n",
      "You pressed right\n",
      "You pressed right\n",
      "You pressed right\n",
      "You pressed right\n",
      "You pressed right\n",
      "You pressed right\n",
      "You pressed right\n",
      "You pressed left\n",
      "You pressed left\n",
      "You pressed right\n",
      "You pressed right\n",
      "You pressed right\n",
      "You pressed right\n",
      "You pressed right\n",
      "You pressed right\n",
      "You pressed right\n",
      "You pressed right\n",
      "You pressed left\n",
      "You pressed right\n",
      "You pressed right\n",
      "You pressed left\n",
      "You pressed left\n",
      "You pressed right\n",
      "You pressed right\n",
      "You pressed right\n",
      "You pressed right\n",
      "You pressed right\n",
      "You pressed right\n",
      "You pressed right\n",
      "You pressed right\n",
      "You pressed right\n",
      "You pressed right\n",
      "You pressed right\n",
      "You pressed right\n",
      "You pressed right\n",
      "You pressed right\n",
      "You pressed right\n",
      "You pressed right\n",
      "You pressed right\n",
      "You pressed right\n",
      "You pressed right\n",
      "You pressed right\n",
      "You pressed right\n",
      "You pressed right\n",
      "You pressed left\n",
      " -- End --\n"
     ]
    }
   ],
   "source": [
    "# Loop over the frames\n",
    "\n",
    "button_release = True\n",
    "\n",
    "while True: \n",
    "\n",
    "    img = get_screenshot((15,412,820 , 860))\n",
    "    # Handle the rendering of the images/video\n",
    "    image = cv2.resize(img, (224, 224))\n",
    "    image = cv2.Canny(image, threshold1=119, threshold2=250)\n",
    "    #cv2.imshow('GameCap', image)\n",
    "    \n",
    "    #print(keyboard.is_pressed(\"right\"), keyboard.is_pressed(\"up\"), keyboard.is_pressed(\"left\"), button_release)\n",
    "    \n",
    "    if keyboard.is_pressed(\"right\") and button_release == True:\n",
    "        print(\"You pressed right\")\n",
    "        button_release = False\n",
    "        image_data.append(np.array(image))\n",
    "        target.append('right')\n",
    "\n",
    "    elif keyboard.is_pressed(\"up\") and button_release == True:\n",
    "        print(\"You pressed up\")\n",
    "        button_release = False\n",
    "        image_data.append(np.array(image))\n",
    "        target.append('up')\n",
    "    \n",
    "    elif keyboard.is_pressed(\"left\") and button_release == True:\n",
    "        print(\"You pressed left\")\n",
    "        button_release = False\n",
    "        image_data.append(np.array(image))\n",
    "        target.append('left')\n",
    "        \n",
    "    elif not (keyboard.is_pressed(\"right\") or keyboard.is_pressed(\"up\") or keyboard.is_pressed(\"left\")):\n",
    "        button_release = True\n",
    "        \n",
    "    if keyboard.is_pressed(\"q\"):\n",
    "        target = target[:-1]\n",
    "        image_data = image_data[:-1]\n",
    "        print(\" -- End --\")\n",
    "        break\n",
    "\n",
    "    # Cv2.waitkey  \n",
    "    if cv2.waitKey(1) & 0xFF==ord('q'):\n",
    "        break\n",
    "\n",
    "# Close down the frame\n",
    "#cv2.destroyAllWindowqs()"
   ]
  },
  {
   "cell_type": "code",
   "execution_count": 9,
   "metadata": {
    "collapsed": false
   },
   "outputs": [
    {
     "name": "stdout",
     "output_type": "stream",
     "text": [
      "636\n",
      "636\n"
     ]
    }
   ],
   "source": [
    "print(len(target))\n",
    "print(len(image_data))"
   ]
  },
  {
   "cell_type": "code",
   "execution_count": 10,
   "metadata": {
    "collapsed": false
   },
   "outputs": [
    {
     "name": "stdout",
     "output_type": "stream",
     "text": [
      "right\n"
     ]
    },
    {
     "data": {
      "image/png": "[encoded data removed]",
      "text/plain": [
       "<Figure size 432x288 with 1 Axes>"
      ]
     },
     "metadata": {
      "needs_background": "light"
     },
     "output_type": "display_data"
    }
   ],
   "source": [
    "num = 0\n",
    "print(target[num])\n",
    "plt.imshow(image_data[num], cmap='gray')\n",
    "plt.show()"
   ]
  },
  {
   "cell_type": "code",
   "execution_count": 25,
   "metadata": {},
   "outputs": [
    {
     "data": {
      "image/png": "[encoded data removed]",
      "text/plain": [
       "<Figure size 432x288 with 1 Axes>"
      ]
     },
     "metadata": {
      "needs_background": "light"
     },
     "output_type": "display_data"
    }
   ],
   "source": [
    "plt.hist(image_data)\n",
    "plt.show()"
   ]
  },
  {
   "cell_type": "code",
   "execution_count": 24,
   "metadata": {
    "collapsed": true
   },
   "outputs": [],
   "source": [
    "# save data\n",
    "np.save('data2.npy', np.array(image_data))\n",
    "np.save('data/target2.npy', np.array(target))"
   ]
  },
  {
   "cell_type": "markdown",
   "metadata": {
    "collapsed": true
   },
   "source": [
    "# modeling and training"
   ]
  },
  {
   "cell_type": "code",
   "execution_count": 12,
   "metadata": {
    "collapsed": false
   },
   "outputs": [],
   "source": [
    "from keras.applications.inception_v3 import InceptionV3\n",
    "from tensorflow.keras.applications.vgg16 import VGG16\n",
    "from tensorflow.keras.applications.vgg19 import VGG19\n",
    "from tensorflow.keras.applications import ResNet50\n",
    "from tensorflow.keras.applications.mobilenet import MobileNet"
   ]
  },
  {
   "cell_type": "code",
   "execution_count": 2,
   "metadata": {
    "collapsed": false
   },
   "outputs": [],
   "source": [
    "from sklearn.metrics         import confusion_matrix, accuracy_score, classification_report, ConfusionMatrixDisplay\n",
    "from sklearn.model_selection import train_test_split\n",
    "from keras.models            import Sequential, Model\n",
    "from keras.layers            import Conv2D, Dropout,MaxPooling2D,Dense, Flatten, Conv2DTranspose,\\\n",
    "Concatenate, BatchNormalization, Activation, GlobalAveragePooling2D, Concatenate\n",
    "#from keras import Input\n",
    "#from tensorflow.keras.layers import Input\n",
    "#from keras.callbacks import Callback\n",
    "#ºfrom tensorflow import keras\n",
    "from tensorflow.keras import callbacks, optimizers\n",
    "\n",
    "#from mlxtend.plotting import plot_confusion_matrix\n",
    "from keras.models import Model\n",
    "from keras.layers import Input "
   ]
  },
  {
   "cell_type": "code",
   "execution_count": 3,
   "metadata": {
    "collapsed": false
   },
   "outputs": [],
   "source": [
    "def custom_model(input_shape=(224, 224,1,), n_out=1):\n",
    "    model = Sequential()\n",
    "    model.add(Conv2D(32, (3, 3), activation='relu', kernel_initializer='he_uniform', padding='same', input_shape=input_shape))\n",
    "    model.add(Conv2D(32, (3, 3), activation='relu', kernel_initializer='he_uniform', padding='same'))\n",
    "    model.add(Conv2D(32, (3, 3), activation='relu', kernel_initializer='he_uniform', padding='same'))\n",
    "    model.add(Conv2D(32, (3, 3), activation='relu', kernel_initializer='he_uniform', padding='same'))\n",
    "    model.add(MaxPooling2D((2, 2)))\n",
    "    model.add(Conv2D(32, (3, 3), activation='relu', kernel_initializer='he_uniform', padding='same'))\n",
    "    model.add(Conv2D(32, (3, 3), activation='relu', kernel_initializer='he_uniform', padding='same'))\n",
    "    model.add(Conv2D(32, (3, 3), activation='relu', kernel_initializer='he_uniform', padding='same'))\n",
    "    model.add(MaxPooling2D((2, 2)))\n",
    "    model.add(Conv2D(64, (3, 3), activation='relu', kernel_initializer='he_uniform', padding='same'))\n",
    "    model.add(Conv2D(64, (3, 3), activation='relu', kernel_initializer='he_uniform', padding='same'))\n",
    "    model.add(MaxPooling2D((2, 2)))\n",
    "    model.add(Conv2D(128, (3, 3), activation='relu', kernel_initializer='he_uniform', padding='same'))\n",
    "    model.add(Conv2D(128, (3, 3), activation='relu', kernel_initializer='he_uniform', padding='same'))\n",
    "    model.add(MaxPooling2D((2, 2)))\n",
    "    model.add(Flatten())\n",
    "    model.add(Dense(128, activation='relu', kernel_initializer='he_uniform'))\n",
    "    model.add(Dense(128, activation='relu', kernel_initializer='he_uniform'))\n",
    "    model.add(Dense(128, activation='relu', kernel_initializer='he_uniform'))\n",
    "    model.add(Dense(128, activation='relu', kernel_initializer='he_uniform'))\n",
    "    model.add(Dense(128, activation='relu', kernel_initializer='he_uniform'))\n",
    "    model.add(Dense(128, activation='relu', kernel_initializer='he_uniform'))\n",
    "    #model.add(Dense(2, activation='softmax'))\n",
    "    model.add(Dense(n_out, activation='sigmoid'))\n",
    "    \n",
    "    # compile model\n",
    "    model.compile(optimizer=\"adam\", loss='binary_crossentropy', metrics=['accuracy'], )\n",
    "\n",
    "    return model"
   ]
  },
  {
   "cell_type": "code",
   "execution_count": null,
   "metadata": {
    "collapsed": false
   },
   "outputs": [],
   "source": [
    "\n",
    "resnet = Resnet50(weights='imagenet',include_top= 'TRUE') \n",
    "\n",
    "input_tensor = Input(shape=(IMG_SIZE,IMG_SIZE,1) )\n",
    "\n",
    "x = Conv2D(3,(3,3),padding='same')(input_tensor)  # x has a dimension of (IMG_SIZE,IMG_SIZE,3)\n",
    "out = resnet (x) \n",
    "\n",
    "model = Model(inputs=input_tensor,outputs=out)"
   ]
  },
  {
   "cell_type": "code",
   "execution_count": null,
   "metadata": {
    "collapsed": true
   },
   "outputs": [],
   "source": [
    "img_input = tf.keras.layers.Input(shape=(img_size_target, img_size_target,1))\n",
    "img_conc = tf.keras.layers.Concatenate()([img_input, img_input, img_input])    \n",
    "\n",
    "model = ResNet50(include_top=True, weights='imagenet', input_tensor=img_conc)"
   ]
  },
  {
   "cell_type": "code",
   "execution_count": 15,
   "metadata": {
    "collapsed": true
   },
   "outputs": [],
   "source": [
    "def create_resnet50(input_shape, n_out):\n",
    "    input_tensor = Input(shape=input_shape)\n",
    "    \n",
    "    if input_shape[2]==1:\n",
    "        input_tensor = Concatenate()([input_tensor, input_tensor, input_tensor])\n",
    "\n",
    "    base_model = ResNet50(weights='imagenet', \n",
    "                                       include_top=False,\n",
    "                                       input_tensor=input_tensor)\n",
    "    #base_model.load_weights('../input/resnet50/resnet50_weights_tf_dim_ordering_tf_kernels_notop.h5')\n",
    "\n",
    "    x = GlobalAveragePooling2D()(base_model.output)\n",
    "    x = Dropout(0.5)(x)\n",
    "    x = Dense(2048, activation='relu')(x)\n",
    "    x = Dropout(0.5)(x)\n",
    "    final_output = Dense(n_out, activation='softmax', name='final_output')(x)\n",
    "    \n",
    "    model = Model(input_tensor, final_output)\n",
    "\n",
    "    #optimizer = optimizers.Adam(lr=WARMUP_LEARNING_RATE)\n",
    "    model.compile(optimizer=\"adam\", loss=\"categorical_crossentropy\",  metrics=[\"accuracy\"])\n",
    "\n",
    "    return model"
   ]
  },
  {
   "cell_type": "code",
   "execution_count": 16,
   "metadata": {
    "collapsed": true
   },
   "outputs": [],
   "source": [
    "def create_vgg16(input_shape, n_out):\n",
    "    \n",
    "    base_model = VGG16(\n",
    "        weights=\"imagenet\",\n",
    "        include_top=False, \n",
    "        input_shape=input_shape\n",
    "    )\n",
    "\n",
    "    model = Sequential()\n",
    "    model.add(base_model)\n",
    "    model.add(Flatten())\n",
    "    model.add(Dropout(0.5))\n",
    "    model.add(Dense(n_out, activation='sigmoid'))\n",
    "\n",
    "    \n",
    "    model.compile(\n",
    "        loss='binary_crossentropy',\n",
    "        optimizer=keras.optimizers.RMSprop(learning_rate=1e-4),\n",
    "        metrics=['accuracy']\n",
    "    )\n",
    "    return model"
   ]
  },
  {
   "cell_type": "code",
   "execution_count": 16,
   "metadata": {
    "collapsed": true
   },
   "outputs": [],
   "source": [
    "mdl_original = VGG16(weights=\"imagenet\", include_top=False,  pooling='Max', input_shape=(224,224,3))"
   ]
  },
  {
   "cell_type": "code",
   "execution_count": 19,
   "metadata": {
    "collapsed": false
   },
   "outputs": [],
   "source": [
    "layer1_wb = mdl_original.layers[1].get_weights()"
   ]
  },
  {
   "cell_type": "code",
   "execution_count": null,
   "metadata": {
    "collapsed": true
   },
   "outputs": [],
   "source": []
  },
  {
   "cell_type": "code",
   "execution_count": null,
   "metadata": {
    "collapsed": true
   },
   "outputs": [],
   "source": []
  },
  {
   "cell_type": "code",
   "execution_count": null,
   "metadata": {
    "collapsed": true
   },
   "outputs": [],
   "source": [
    "# Custurmize VGG16 Network as Grayscale, 1024 Fully Connected\n",
    "\n",
    "mdl_original = VGG16(classes=4, include_top=False,  pooling='Max', input_shape=(240,280,3))\n",
    "\n",
    "layer1_wb = mdl_original.layers[1].get_weights()\n",
    "\n",
    "layer1_w = layer1_wb[0]\n",
    "layer1_w_newshape = list(layer1_w.shape)\n",
    "layer1_w_newshape[2] = 1\n",
    "layer1_w_newshape = tuple(layer1_w_newshape)\n",
    "\n",
    "layer1_w_new = np.zeros(layer1_w_newshape)\n",
    "layer1_w_new[:,:,0,:] = np.mean(layer1_w, axis=2)\n",
    "\n",
    "layer1_new = Conv2D(filters=64, kernel_size=(3, 3), activation='relu', padding='same', name='block1_conv1')\n",
    "\n",
    "\n",
    "layer1_wb_new = layer1_wb\n",
    "layer1_wb_new[0] = layer1_w_new\n",
    "\n",
    "\n",
    "img_input = Input(shape=(240,280,1))\n",
    "# Block 1\n",
    "x = Conv2D(64, (3, 3), activation='relu', padding='same', name='block1_conv1',use_bias=True)(img_input)\n",
    "x = Conv2D(64, (3, 3), activation='relu', padding='same', name='block1_conv2')(x)\n",
    "x = MaxPooling2D((2, 2), strides=(2, 2), name='block1_pool')(x)\n",
    "\n",
    "# Block 2\n",
    "x = Conv2D(128, (3, 3), activation='relu', padding='same', name='block2_conv1')(x)\n",
    "x = Conv2D(128, (3, 3), activation='relu', padding='same', name='block2_conv2')(x)\n",
    "x = MaxPooling2D((2, 2), strides=(2, 2), name='block2_pool')(x)\n",
    "\n",
    "# Block 3\n",
    "x = Conv2D(256, (3, 3), activation='relu', padding='same', name='block3_conv1')(x)\n",
    "x = Conv2D(256, (3, 3), activation='relu', padding='same', name='block3_conv2')(x)\n",
    "x = Conv2D(256, (3, 3), activation='relu', padding='same', name='block3_conv3')(x)\n",
    "x = MaxPooling2D((2, 2), strides=(2, 2), name='block3_pool')(x)\n",
    "\n",
    "# Block 4\n",
    "x = Conv2D(512, (3, 3), activation='relu', padding='same', name='block4_conv1')(x)\n",
    "x = Conv2D(512, (3, 3), activation='relu', padding='same', name='block4_conv2')(x)\n",
    "x = Conv2D(512, (3, 3), activation='relu', padding='same', name='block4_conv3')(x)\n",
    "x = MaxPooling2D((2, 2), strides=(2, 2), name='block4_pool')(x)\n",
    "\n",
    "# Block 5\n",
    "x = Conv2D(512, (3, 3), activation='relu', padding='same', name='block5_conv1')(x)\n",
    "x = Conv2D(512, (3, 3), activation='relu', padding='same', name='block5_conv2')(x)\n",
    "x = Conv2D(512, (3, 3), activation='relu', padding='same', name='block5_conv3')(x)\n",
    "x = MaxPooling2D((2, 2), strides=(2, 2), name='block5_pool')(x)\n",
    "x = GlobalMaxPooling2D()(x)\n",
    "\n",
    "# Block 6\n",
    "x = Dense(1024, activation='relu', name='fc1')(x)\n",
    "x = Dense(1024, activation='relu', name='fc2')(x)\n",
    "x = Dense(4, activation='softmax', name='predictions')(x)\n",
    "\n",
    "mdl = Model(img_input, x)"
   ]
  },
  {
   "cell_type": "code",
   "execution_count": 17,
   "metadata": {
    "collapsed": true
   },
   "outputs": [],
   "source": [
    "def create_mobilenet(input_shape, n_out):\n",
    "\n",
    "    input_tensor = Input(shape=input_shape)\n",
    "    x3 = Conv2D(3,(3,3),padding='same')(input_tensor)  # x has a dimension of (IMG_SIZE,IMG_SIZE,3)\n",
    "    \n",
    "    base_model = MobileNet(input_shape = (224, 224,3), include_top = False,\n",
    "                                               weights = \"imagenet\")\n",
    "    \n",
    "    x3_channels  = base_model (x3) \n",
    "\n",
    "    model = Sequential([x3_channels,\n",
    "                                 GlobalAveragePooling2D(),\n",
    "                                 Dense(20, activation = \"relu\"),\n",
    "                                 Dropout(0.4),\n",
    "                                 Dense(10, activation = \"relu\"),\n",
    "                                 Dropout(0.3),\n",
    "                                 Dense(n_out, activation = \"sigmoid\")                                     \n",
    "                                ])\n",
    "    model.compile(optimizer = keras.optimizers.Adam(lr = 1e-2), loss = \"binary_crossentropy\", metrics = [\"accuracy\"])\n",
    "    return model"
   ]
  },
  {
   "cell_type": "code",
   "execution_count": null,
   "metadata": {
    "collapsed": true
   },
   "outputs": [],
   "source": []
  },
  {
   "cell_type": "code",
   "execution_count": 4,
   "metadata": {
    "collapsed": false
   },
   "outputs": [],
   "source": [
    "# train the rest of models:\n",
    "models_dict = {\"custom\": custom_model(input_shape=(224, 224,1), n_out=3),\n",
    "               #\"resnet50\": create_resnet50(input_shape=(224, 224, 3), n_out=3),\n",
    "               #\"vgg16\": create_vgg16(input_shape=(224, 224,1), n_out=1),\n",
    "               #\"mobilenet\": create_mobilenet(input_shape=(224, 224,1), n_out=3), \n",
    "              }"
   ]
  },
  {
   "cell_type": "code",
   "execution_count": 5,
   "metadata": {},
   "outputs": [],
   "source": [
    "# read data\n",
    "Y = np.load('data/target2.npy')\n",
    "X = np.load('data/data2.npy')"
   ]
  },
  {
   "cell_type": "code",
   "execution_count": 6,
   "metadata": {},
   "outputs": [],
   "source": [
    "X = X.reshape(-1, 224, 224, 1)\n",
    "X = X/255"
   ]
  },
  {
   "cell_type": "code",
   "execution_count": 7,
   "metadata": {},
   "outputs": [],
   "source": [
    "from sklearn.preprocessing import LabelEncoder\n",
    "labeler = LabelEncoder()\n",
    "Y = labeler.fit_transform(Y)"
   ]
  },
  {
   "cell_type": "code",
   "execution_count": 8,
   "metadata": {},
   "outputs": [
    {
     "data": {
      "text/plain": [
       "array(['left', 'right', 'up'], dtype='<U5')"
      ]
     },
     "execution_count": 8,
     "metadata": {},
     "output_type": "execute_result"
    }
   ],
   "source": [
    "labeler.classes_"
   ]
  },
  {
   "cell_type": "code",
   "execution_count": 9,
   "metadata": {},
   "outputs": [],
   "source": [
    "from keras.utils.np_utils import to_categorical\n",
    "Y = to_categorical(Y, num_classes=3)"
   ]
  },
  {
   "cell_type": "code",
   "execution_count": 10,
   "metadata": {},
   "outputs": [],
   "source": [
    "seed = 19\n",
    "X_train, X_valid, y_train, y_valid = train_test_split(X, Y,\n",
    "               train_size=0.9, test_size=0.1, random_state=seed)"
   ]
  },
  {
   "cell_type": "code",
   "execution_count": 11,
   "metadata": {},
   "outputs": [
    {
     "name": "stdout",
     "output_type": "stream",
     "text": [
      "(572, 224, 224, 1)\n",
      "(572, 3)\n",
      "(64, 224, 224, 1)\n",
      "(64, 3)\n"
     ]
    }
   ],
   "source": [
    "print(X_train.shape)\n",
    "print(y_train.shape)\n",
    "print(X_valid.shape)\n",
    "print(y_valid.shape)"
   ]
  },
  {
   "cell_type": "code",
   "execution_count": 12,
   "metadata": {
    "collapsed": true
   },
   "outputs": [
    {
     "name": "stdout",
     "output_type": "stream",
     "text": [
      "\n",
      "\n",
      "  Training model custom\n",
      "Epoch 1/15\n",
      "18/18 [==============================] - 294s 17s/step - loss: 0.5497 - accuracy: 0.7255 - val_loss: 0.1886 - val_accuracy: 0.9219\n",
      "Epoch 2/15\n",
      "18/18 [==============================] - 348s 19s/step - loss: 0.3211 - accuracy: 0.8287 - val_loss: 0.2386 - val_accuracy: 0.9219\n",
      "Epoch 3/15\n",
      "18/18 [==============================] - 322s 18s/step - loss: 0.3123 - accuracy: 0.8287 - val_loss: 0.2100 - val_accuracy: 0.9219\n",
      "Epoch 4/15\n",
      "18/18 [==============================] - 315s 18s/step - loss: 0.3105 - accuracy: 0.8287 - val_loss: 0.2372 - val_accuracy: 0.9219\n",
      "Epoch 00004: early stopping\n",
      "2/2 [==============================] - 10s 5s/step - loss: 0.2372 - accuracy: 0.9219\n",
      "\n",
      "Predicting...\n",
      "2/2 - 11s\n"
     ]
    },
    {
     "ename": "ValueError",
     "evalue": "Found input variables with inconsistent numbers of samples: [572, 64]",
     "output_type": "error",
     "traceback": [
      "\u001b[1;31m---------------------------------------------------------------------------\u001b[0m",
      "\u001b[1;31mValueError\u001b[0m                                Traceback (most recent call last)",
      "\u001b[1;32mc:\\Users\\Xarly\\Documents\\repos\\games_tools_AI\\autoplayer_training.ipynb Cell 30'\u001b[0m in \u001b[0;36m<cell line: 10>\u001b[1;34m()\u001b[0m\n\u001b[0;32m     <a href='vscode-notebook-cell:/c%3A/Users/Xarly/Documents/repos/games_tools_AI/autoplayer_training.ipynb#ch0000030?line=22'>23</a>\u001b[0m prediction\u001b[39m=\u001b[39m (model\u001b[39m.\u001b[39mpredict(X_valid, verbose\u001b[39m=\u001b[39m\u001b[39m2\u001b[39m) \u001b[39m>\u001b[39m \u001b[39m0.5\u001b[39m)\n\u001b[0;32m     <a href='vscode-notebook-cell:/c%3A/Users/Xarly/Documents/repos/games_tools_AI/autoplayer_training.ipynb#ch0000030?line=23'>24</a>\u001b[0m \u001b[39m#print(plot_confusion_matrix(confusion_matrix(y_test, prediction), figsize=(5,5)))\u001b[39;00m\n\u001b[1;32m---> <a href='vscode-notebook-cell:/c%3A/Users/Xarly/Documents/repos/games_tools_AI/autoplayer_training.ipynb#ch0000030?line=24'>25</a>\u001b[0m \u001b[39mprint\u001b[39m(accuracy_score(y_train, prediction))\n\u001b[0;32m     <a href='vscode-notebook-cell:/c%3A/Users/Xarly/Documents/repos/games_tools_AI/autoplayer_training.ipynb#ch0000030?line=25'>26</a>\u001b[0m \u001b[39mprint\u001b[39m(classification_report(y_train, prediction))\n\u001b[0;32m     <a href='vscode-notebook-cell:/c%3A/Users/Xarly/Documents/repos/games_tools_AI/autoplayer_training.ipynb#ch0000030?line=26'>27</a>\u001b[0m plt\u001b[39m.\u001b[39mshow()\n",
      "File \u001b[1;32mC:\\python\\python3_9\\lib\\site-packages\\sklearn\\metrics\\_classification.py:211\u001b[0m, in \u001b[0;36maccuracy_score\u001b[1;34m(y_true, y_pred, normalize, sample_weight)\u001b[0m\n\u001b[0;32m    <a href='file:///c%3A/python/python3_9/lib/site-packages/sklearn/metrics/_classification.py?line=144'>145</a>\u001b[0m \u001b[39m\"\"\"Accuracy classification score.\u001b[39;00m\n\u001b[0;32m    <a href='file:///c%3A/python/python3_9/lib/site-packages/sklearn/metrics/_classification.py?line=145'>146</a>\u001b[0m \n\u001b[0;32m    <a href='file:///c%3A/python/python3_9/lib/site-packages/sklearn/metrics/_classification.py?line=146'>147</a>\u001b[0m \u001b[39mIn multilabel classification, this function computes subset accuracy:\u001b[39;00m\n\u001b[1;32m   (...)\u001b[0m\n\u001b[0;32m    <a href='file:///c%3A/python/python3_9/lib/site-packages/sklearn/metrics/_classification.py?line=206'>207</a>\u001b[0m \u001b[39m0.5\u001b[39;00m\n\u001b[0;32m    <a href='file:///c%3A/python/python3_9/lib/site-packages/sklearn/metrics/_classification.py?line=207'>208</a>\u001b[0m \u001b[39m\"\"\"\u001b[39;00m\n\u001b[0;32m    <a href='file:///c%3A/python/python3_9/lib/site-packages/sklearn/metrics/_classification.py?line=209'>210</a>\u001b[0m \u001b[39m# Compute accuracy for each possible representation\u001b[39;00m\n\u001b[1;32m--> <a href='file:///c%3A/python/python3_9/lib/site-packages/sklearn/metrics/_classification.py?line=210'>211</a>\u001b[0m y_type, y_true, y_pred \u001b[39m=\u001b[39m _check_targets(y_true, y_pred)\n\u001b[0;32m    <a href='file:///c%3A/python/python3_9/lib/site-packages/sklearn/metrics/_classification.py?line=211'>212</a>\u001b[0m check_consistent_length(y_true, y_pred, sample_weight)\n\u001b[0;32m    <a href='file:///c%3A/python/python3_9/lib/site-packages/sklearn/metrics/_classification.py?line=212'>213</a>\u001b[0m \u001b[39mif\u001b[39;00m y_type\u001b[39m.\u001b[39mstartswith(\u001b[39m\"\u001b[39m\u001b[39mmultilabel\u001b[39m\u001b[39m\"\u001b[39m):\n",
      "File \u001b[1;32mC:\\python\\python3_9\\lib\\site-packages\\sklearn\\metrics\\_classification.py:84\u001b[0m, in \u001b[0;36m_check_targets\u001b[1;34m(y_true, y_pred)\u001b[0m\n\u001b[0;32m     <a href='file:///c%3A/python/python3_9/lib/site-packages/sklearn/metrics/_classification.py?line=56'>57</a>\u001b[0m \u001b[39mdef\u001b[39;00m \u001b[39m_check_targets\u001b[39m(y_true, y_pred):\n\u001b[0;32m     <a href='file:///c%3A/python/python3_9/lib/site-packages/sklearn/metrics/_classification.py?line=57'>58</a>\u001b[0m     \u001b[39m\"\"\"Check that y_true and y_pred belong to the same classification task.\u001b[39;00m\n\u001b[0;32m     <a href='file:///c%3A/python/python3_9/lib/site-packages/sklearn/metrics/_classification.py?line=58'>59</a>\u001b[0m \n\u001b[0;32m     <a href='file:///c%3A/python/python3_9/lib/site-packages/sklearn/metrics/_classification.py?line=59'>60</a>\u001b[0m \u001b[39m    This converts multiclass or binary types to a common shape, and raises a\u001b[39;00m\n\u001b[1;32m   (...)\u001b[0m\n\u001b[0;32m     <a href='file:///c%3A/python/python3_9/lib/site-packages/sklearn/metrics/_classification.py?line=81'>82</a>\u001b[0m \u001b[39m    y_pred : array or indicator matrix\u001b[39;00m\n\u001b[0;32m     <a href='file:///c%3A/python/python3_9/lib/site-packages/sklearn/metrics/_classification.py?line=82'>83</a>\u001b[0m \u001b[39m    \"\"\"\u001b[39;00m\n\u001b[1;32m---> <a href='file:///c%3A/python/python3_9/lib/site-packages/sklearn/metrics/_classification.py?line=83'>84</a>\u001b[0m     check_consistent_length(y_true, y_pred)\n\u001b[0;32m     <a href='file:///c%3A/python/python3_9/lib/site-packages/sklearn/metrics/_classification.py?line=84'>85</a>\u001b[0m     type_true \u001b[39m=\u001b[39m type_of_target(y_true)\n\u001b[0;32m     <a href='file:///c%3A/python/python3_9/lib/site-packages/sklearn/metrics/_classification.py?line=85'>86</a>\u001b[0m     type_pred \u001b[39m=\u001b[39m type_of_target(y_pred)\n",
      "File \u001b[1;32mC:\\python\\python3_9\\lib\\site-packages\\sklearn\\utils\\validation.py:332\u001b[0m, in \u001b[0;36mcheck_consistent_length\u001b[1;34m(*arrays)\u001b[0m\n\u001b[0;32m    <a href='file:///c%3A/python/python3_9/lib/site-packages/sklearn/utils/validation.py?line=329'>330</a>\u001b[0m uniques \u001b[39m=\u001b[39m np\u001b[39m.\u001b[39munique(lengths)\n\u001b[0;32m    <a href='file:///c%3A/python/python3_9/lib/site-packages/sklearn/utils/validation.py?line=330'>331</a>\u001b[0m \u001b[39mif\u001b[39;00m \u001b[39mlen\u001b[39m(uniques) \u001b[39m>\u001b[39m \u001b[39m1\u001b[39m:\n\u001b[1;32m--> <a href='file:///c%3A/python/python3_9/lib/site-packages/sklearn/utils/validation.py?line=331'>332</a>\u001b[0m     \u001b[39mraise\u001b[39;00m \u001b[39mValueError\u001b[39;00m(\n\u001b[0;32m    <a href='file:///c%3A/python/python3_9/lib/site-packages/sklearn/utils/validation.py?line=332'>333</a>\u001b[0m         \u001b[39m\"\u001b[39m\u001b[39mFound input variables with inconsistent numbers of samples: \u001b[39m\u001b[39m%r\u001b[39;00m\u001b[39m\"\u001b[39m\n\u001b[0;32m    <a href='file:///c%3A/python/python3_9/lib/site-packages/sklearn/utils/validation.py?line=333'>334</a>\u001b[0m         \u001b[39m%\u001b[39m [\u001b[39mint\u001b[39m(l) \u001b[39mfor\u001b[39;00m l \u001b[39min\u001b[39;00m lengths]\n\u001b[0;32m    <a href='file:///c%3A/python/python3_9/lib/site-packages/sklearn/utils/validation.py?line=334'>335</a>\u001b[0m     )\n",
      "\u001b[1;31mValueError\u001b[0m: Found input variables with inconsistent numbers of samples: [572, 64]"
     ]
    }
   ],
   "source": [
    "models_history = {}\n",
    "models_metrics = {}\n",
    "\n",
    "early_stopping = callbacks.EarlyStopping(\n",
    "    min_delta=0.001,  # minimium amount of change to count as an improvement\n",
    "    patience=3,  # how many epochs to wait before stopping\n",
    "    verbose=1\n",
    ")\n",
    "\n",
    "for model_name, model in models_dict.items():\n",
    "    print(\"\\n\\n  Training model {}\".format(model_name))\n",
    "\n",
    "    # automatic data\n",
    "    history = model.fit(x=X_train, y=y_train,\n",
    "                        validation_data=(X_valid, y_valid,),\n",
    "                        epochs=15,  \n",
    "                        callbacks=[early_stopping])\n",
    "    \n",
    "    models_history[model_name] = history\n",
    "    models_metrics[model_name] = model.evaluate(X_valid, np.array(y_valid))\n",
    "    \n",
    "    print(\"\\nPredicting...\")\n",
    "    prediction= model.predict(X_valid, verbose=2)\n",
    "    #print(plot_confusion_matrix(confusion_matrix(y_test, prediction), figsize=(5,5)))\n",
    "    print(accuracy_score(np.argmax(y_valid, axis = 1), np.argmax(prediction, axis = 1)))\n",
    "    print(classification_report(np.argmax(y_valid, axis = 1), np.argmax(prediction, axis = 1)))\n",
    "    plt.show()\n",
    "    \n",
    "    print(\"\\nDone\\n\")"
   ]
  },
  {
   "cell_type": "code",
   "execution_count": 20,
   "metadata": {},
   "outputs": [
    {
     "data": {
      "image/png": "[encoded data removed]",
      "text/plain": [
       "<Figure size 1296x432 with 4 Axes>"
      ]
     },
     "metadata": {
      "needs_background": "light"
     },
     "output_type": "display_data"
    }
   ],
   "source": [
    "val_preds = np.argmax(model.predict(X_valid), axis = 1)\n",
    "train_preds = np.argmax(model.predict(X_train), axis = 1)\n",
    "\n",
    "fig, axes = plt.subplots(1, 2, figsize = (18, 6))\n",
    "\n",
    "cm_train = confusion_matrix(np.argmax(y_train, axis = 1), train_preds)\n",
    "disp = ConfusionMatrixDisplay(confusion_matrix = cm_train, display_labels=labeler.classes_)\n",
    "disp.plot(cmap = plt.cm.Blues, ax = axes[0])\n",
    "\n",
    "cm_val = confusion_matrix(np.argmax(y_valid, axis = 1), val_preds)\n",
    "disp = ConfusionMatrixDisplay(confusion_matrix = cm_val)\n",
    "disp.plot(cmap = plt.cm.Blues, ax = axes[1])\n",
    "\n",
    "axes[0].set_title(\"Training Set\"); \n",
    "axes[1].set_title(\"Validation Set\")\n",
    "\n",
    "plt.show()"
   ]
  },
  {
   "cell_type": "code",
   "execution_count": 21,
   "metadata": {
    "collapsed": true
   },
   "outputs": [
    {
     "name": "stdout",
     "output_type": "stream",
     "text": [
      "custom\n",
      "[0.2372303605079651, 0.921875]\n"
     ]
    },
    {
     "data": {
      "image/png": "[encoded data removed]",
      "text/plain": [
       "<Figure size 1296x504 with 2 Axes>"
      ]
     },
     "metadata": {
      "needs_background": "light"
     },
     "output_type": "display_data"
    }
   ],
   "source": [
    "for key in models_history.keys():\n",
    "    print(key)\n",
    "    print(models_metrics[key])\n",
    "    \n",
    "    metric_name = \"accuracy\"\n",
    "    plt.figure(figsize=(18, 7))\n",
    "    plt.subplot(2, 2, 1)\n",
    "    plt.plot(models_history[key].history[metric_name], label='Training {}'.format(metric_name))\n",
    "    plt.plot(models_history[key].history['val_'+metric_name], label='Validation {}'.format(metric_name))\n",
    "    plt.xlabel('epoch')\n",
    "    plt.ylabel(metric_name)\n",
    "    plt.legend(loc='lower right')\n",
    "    plt.title('{} : Training vs. Validation'.format(metric_name))\n",
    "\n",
    "    plt.subplot(2, 2, 2)\n",
    "    plt.plot(models_history[key].history['loss'], label='Training Loss')\n",
    "    plt.plot(models_history[key].history['val_loss'], label='Validation Loss')\n",
    "    plt.title('Loss : Training vs. Validation ')\n",
    "    plt.xlabel('epoch')\n",
    "    plt.ylabel('loss')\n",
    "    plt.legend(loc='upper left')\n",
    "    plt.show()"
   ]
  },
  {
   "cell_type": "code",
   "execution_count": null,
   "metadata": {},
   "outputs": [],
   "source": []
  }
 ],
 "metadata": {
  "kernelspec": {
   "display_name": "Python 3",
   "language": "python",
   "name": "python3"
  },
  "language_info": {
   "codemirror_mode": {
    "name": "ipython",
    "version": 3
   },
   "file_extension": ".py",
   "mimetype": "text/x-python",
   "name": "python",
   "nbconvert_exporter": "python",
   "pygments_lexer": "ipython3",
   "version": "3.9.11"
  }
 },
 "nbformat": 4,
 "nbformat_minor": 2
}
